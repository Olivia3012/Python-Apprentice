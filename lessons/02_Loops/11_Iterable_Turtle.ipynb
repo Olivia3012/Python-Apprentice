{
 "cells": [
  {
   "cell_type": "code",
   "execution_count": null,
   "metadata": {},
   "outputs": [],
   "source": [
    "\"\"\"\n",
    "Programmable turtle graphics\n",
    "\n",
    "Use what you've learned about lists, loop, cycle, slice and zip to draw a pattern\n",
    "\n",
    "\"\"\"\n",
    "import turtle\n",
    "t = tina # Create a turtle like in previous programs, like 04_Crazy_Tina.py\n",
    "\n",
    "colors = ['blue', 'red', 'yellow'] # Make a list of colors\n",
    "\n",
    "directions = [ # Create a list of directions and angles\n",
    "    ( <90>, <100> ),\n",
    "    ( <75>, <59> ), ... # Add more\n",
    "]\n",
    "\n",
    "# Zip the colors and directions together, then unpack them. THere is a good example of this\n",
    "# in 10_More_iterables.ipynb in the discussion of zip()\n",
    "\n",
    "for colors in zip(directions, ):\n",
    "    t.color( ... )\n",
    "    t.forward( ... )\n",
    "    t.left( ... )\n",
    "\n",
    "\n",
    "# Don't forget the special way to end a turtle program. \n"
   ]
  }
 ],
 "metadata": {
  "language_info": {
   "name": "python"
  }
 },
 "nbformat": 4,
 "nbformat_minor": 2
}
